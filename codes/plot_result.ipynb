{
 "cells": [
  {
   "cell_type": "code",
   "execution_count": 135,
   "metadata": {},
   "outputs": [],
   "source": [
    "from sklearn.metrics import classification_report,log_loss\n",
    "import numpy as np"
   ]
  },
  {
   "cell_type": "code",
   "execution_count": 136,
   "metadata": {},
   "outputs": [],
   "source": [
    "IN_DIR_PATH = \"3ch_normalized\"\n",
    "csv = np.loadtxt(\"../logs/\"+IN_DIR_PATH+\"/cm.csv\").astype(np.uint8)"
   ]
  },
  {
   "cell_type": "code",
   "execution_count": 137,
   "metadata": {},
   "outputs": [
    {
     "data": {
      "text/plain": [
       "array([[ 8,  0,  0,  0,  3,  0,  0,  0,  0],\n",
       "       [ 0, 18,  0,  0,  0,  0,  0,  0,  0],\n",
       "       [ 0,  0, 14,  0,  0,  0,  0,  0,  0],\n",
       "       [ 0,  0,  0, 11,  0,  0,  0,  0,  0],\n",
       "       [ 0,  0,  0,  0,  5,  1,  0,  0,  0],\n",
       "       [ 0,  0,  0,  0,  0,  8,  0,  1,  2],\n",
       "       [ 0,  0,  0,  1,  0,  0,  5,  0,  0],\n",
       "       [ 0,  0,  0,  0,  0,  0,  0,  8,  0],\n",
       "       [ 0,  0,  0,  0,  0,  0,  0,  0, 13]], dtype=uint8)"
      ]
     },
     "execution_count": 137,
     "metadata": {},
     "output_type": "execute_result"
    }
   ],
   "source": [
    "csv"
   ]
  },
  {
   "cell_type": "code",
   "execution_count": 138,
   "metadata": {},
   "outputs": [],
   "source": [
    "texture_name = [\"ArtLeather\",\"GreenTile\",\"ArtGrass\",\"CorkSheet\",\"EnbiPunch\",\"Luncheon01\",\"Luncheon02\",\"Luncheon03\",\"Carpet01\"]"
   ]
  },
  {
   "cell_type": "code",
   "execution_count": 139,
   "metadata": {},
   "outputs": [],
   "source": [
    "actual_label = []\n",
    "predicted_label = []\n",
    "\n",
    "for i in range(csv.shape[0]):\n",
    "    for j in range(csv.shape[1]):\n",
    "        for k in range(csv[i,j]):\n",
    "#             print('k:',k)\n",
    "#             print('i,j',i,j)\n",
    "            predicted_label.append(i)\n",
    "            actual_label.append(j)"
   ]
  },
  {
   "cell_type": "code",
   "execution_count": 140,
   "metadata": {},
   "outputs": [
    {
     "name": "stdout",
     "output_type": "stream",
     "text": [
      "              precision    recall  f1-score   support\n",
      "\n",
      "  ArtLeather     0.7273    1.0000    0.8421         8\n",
      "   GreenTile     1.0000    1.0000    1.0000        18\n",
      "    ArtGrass     1.0000    1.0000    1.0000        14\n",
      "   CorkSheet     1.0000    0.9167    0.9565        12\n",
      "   EnbiPunch     0.8333    0.6250    0.7143         8\n",
      "  Luncheon01     0.7273    0.8889    0.8000         9\n",
      "  Luncheon02     0.8333    1.0000    0.9091         5\n",
      "  Luncheon03     1.0000    0.8889    0.9412         9\n",
      "    Carpet01     1.0000    0.8667    0.9286        15\n",
      "\n",
      "    accuracy                         0.9184        98\n",
      "   macro avg     0.9024    0.9096    0.8991        98\n",
      "weighted avg     0.9306    0.9184    0.9191        98\n",
      "\n"
     ]
    }
   ],
   "source": [
    "cr=classification_report(actual_label, predicted_label,target_names=texture_name,digits=4)\n",
    "#ll=log_loss(actual_label, predicted_label)\n",
    "print(cr)\n",
    "#print(ll)"
   ]
  },
  {
   "cell_type": "code",
   "execution_count": 134,
   "metadata": {},
   "outputs": [],
   "source": [
    "f = open('../logs/'+IN_DIR_PATH+'/cr.txt','w')\n",
    "f.write(cr)\n",
    "#f.write(ll)\n",
    "f.close()"
   ]
  },
  {
   "cell_type": "code",
   "execution_count": null,
   "metadata": {},
   "outputs": [],
   "source": []
  }
 ],
 "metadata": {
  "kernelspec": {
   "display_name": "Python 3",
   "language": "python",
   "name": "python3"
  },
  "language_info": {
   "codemirror_mode": {
    "name": "ipython",
    "version": 3
   },
   "file_extension": ".py",
   "mimetype": "text/x-python",
   "name": "python",
   "nbconvert_exporter": "python",
   "pygments_lexer": "ipython3",
   "version": "3.6.9"
  }
 },
 "nbformat": 4,
 "nbformat_minor": 4
}
