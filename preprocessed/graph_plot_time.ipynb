{
 "cells": [
  {
   "cell_type": "code",
   "execution_count": 18,
   "metadata": {},
   "outputs": [],
   "source": [
    "import matplotlib.pyplot as plt\n",
    "import numpy as np\n",
    "import pandas as pd\n",
    "from matplotlib.backends.backend_pdf import PdfPages"
   ]
  },
  {
   "cell_type": "code",
   "execution_count": 19,
   "metadata": {},
   "outputs": [],
   "source": [
    "csv = pd.read_csv(\"../logs/time_table.csv\", index_col=0)"
   ]
  },
  {
   "cell_type": "code",
   "execution_count": 20,
   "metadata": {},
   "outputs": [
    {
     "data": {
      "text/html": [
       "<div>\n",
       "<style scoped>\n",
       "    .dataframe tbody tr th:only-of-type {\n",
       "        vertical-align: middle;\n",
       "    }\n",
       "\n",
       "    .dataframe tbody tr th {\n",
       "        vertical-align: top;\n",
       "    }\n",
       "\n",
       "    .dataframe thead th {\n",
       "        text-align: right;\n",
       "    }\n",
       "</style>\n",
       "<table border=\"1\" class=\"dataframe\">\n",
       "  <thead>\n",
       "    <tr style=\"text-align: right;\">\n",
       "      <th></th>\n",
       "      <th>training_time</th>\n",
       "      <th>preprocess_time</th>\n",
       "    </tr>\n",
       "    <tr>\n",
       "      <th>dataname</th>\n",
       "      <th></th>\n",
       "      <th></th>\n",
       "    </tr>\n",
       "  </thead>\n",
       "  <tbody>\n",
       "    <tr>\n",
       "      <th>SA321-x</th>\n",
       "      <td>1407.929415</td>\n",
       "      <td>128.877914</td>\n",
       "    </tr>\n",
       "    <tr>\n",
       "      <th>SA321-y</th>\n",
       "      <td>1409.365878</td>\n",
       "      <td>118.643142</td>\n",
       "    </tr>\n",
       "    <tr>\n",
       "      <th>SA321-z</th>\n",
       "      <td>1410.583838</td>\n",
       "      <td>135.287640</td>\n",
       "    </tr>\n",
       "    <tr>\n",
       "      <th>SoC321</th>\n",
       "      <td>1378.562018</td>\n",
       "      <td>168.997994</td>\n",
       "    </tr>\n",
       "    <tr>\n",
       "      <th>Mag321</th>\n",
       "      <td>1404.484183</td>\n",
       "      <td>176.653800</td>\n",
       "    </tr>\n",
       "    <tr>\n",
       "      <th>PCA</th>\n",
       "      <td>1515.893838</td>\n",
       "      <td>186.884574</td>\n",
       "    </tr>\n",
       "    <tr>\n",
       "      <th>DFT321</th>\n",
       "      <td>1458.651964</td>\n",
       "      <td>210.411696</td>\n",
       "    </tr>\n",
       "    <tr>\n",
       "      <th>original</th>\n",
       "      <td>1444.432750</td>\n",
       "      <td>0.000000</td>\n",
       "    </tr>\n",
       "    <tr>\n",
       "      <th>normalized original</th>\n",
       "      <td>1529.702818</td>\n",
       "      <td>195.100974</td>\n",
       "    </tr>\n",
       "  </tbody>\n",
       "</table>\n",
       "</div>"
      ],
      "text/plain": [
       "                     training_time  preprocess_time\n",
       "dataname                                           \n",
       "SA321-x                1407.929415       128.877914\n",
       "SA321-y                1409.365878       118.643142\n",
       "SA321-z                1410.583838       135.287640\n",
       "SoC321                 1378.562018       168.997994\n",
       "Mag321                 1404.484183       176.653800\n",
       "PCA                    1515.893838       186.884574\n",
       "DFT321                 1458.651964       210.411696\n",
       "original               1444.432750         0.000000\n",
       "normalized original    1529.702818       195.100974"
      ]
     },
     "execution_count": 20,
     "metadata": {},
     "output_type": "execute_result"
    }
   ],
   "source": [
    "csv"
   ]
  },
  {
   "cell_type": "code",
   "execution_count": 21,
   "metadata": {},
   "outputs": [
    {
     "data": {
      "text/plain": [
       "<Figure size 432x288 with 0 Axes>"
      ]
     },
     "metadata": {},
     "output_type": "display_data"
    },
    {
     "data": {
      "image/png": "[encoded data removed]",
      "text/plain": [
       "<Figure size 1080x576 with 1 Axes>"
      ]
     },
     "metadata": {
      "needs_background": "light"
     },
     "output_type": "display_data"
    }
   ],
   "source": [
    "plt.figure()\n",
    "csv.plot.bar(y=['training_time','preprocess_time'], stacked=True, alpha=1, grid=True,figsize=(15,8)).legend(loc='lower right')\n",
    "# plt.ylim([0.65,1.0]) \n",
    "plt.title('process time', size=16)\n",
    "plt.ylabel(\"time(s)\",size=12)\n",
    "# plt.ylim([1000,1750]) \n",
    "# figureをセーブする\n",
    "plt.savefig('process_time.png',bbox_inches='tight')"
   ]
  },
  {
   "cell_type": "code",
   "execution_count": null,
   "metadata": {},
   "outputs": [],
   "source": []
  }
 ],
 "metadata": {
  "kernelspec": {
   "display_name": "Python 3",
   "language": "python",
   "name": "python3"
  },
  "language_info": {
   "codemirror_mode": {
    "name": "ipython",
    "version": 3
   },
   "file_extension": ".py",
   "mimetype": "text/x-python",
   "name": "python",
   "nbconvert_exporter": "python",
   "pygments_lexer": "ipython3",
   "version": "3.6.9"
  }
 },
 "nbformat": 4,
 "nbformat_minor": 4
}
